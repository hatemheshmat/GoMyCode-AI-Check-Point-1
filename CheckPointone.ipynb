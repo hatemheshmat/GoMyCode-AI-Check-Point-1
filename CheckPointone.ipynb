{
 "cells": [
  {
   "cell_type": "code",
   "execution_count": 14,
   "id": "08ffd887",
   "metadata": {},
   "outputs": [
    {
     "name": "stdout",
     "output_type": "stream",
     "text": [
      "None\n"
     ]
    }
   ],
   "source": [
    "listRang = []\n",
    "for x in range(2000 , 3200 ):\n",
    "    if x%7 == 0 and x%5 > 1:\n",
    "        listRang.append(x)\n",
    "listRang\n",
    "print(None)"
   ]
  },
  {
   "cell_type": "code",
   "execution_count": 12,
   "id": "032d6dca",
   "metadata": {},
   "outputs": [
    {
     "name": "stdout",
     "output_type": "stream",
     "text": [
      "pls enter number that you need the factorial of it\n",
      "8\n",
      "\n",
      " Factorial of Number 8 is 40320\n"
     ]
    }
   ],
   "source": [
    "def Factorial(n):\n",
    "  if (n==1 or n == 0):\n",
    "    result = 1\n",
    "  else:\n",
    "    result = n*Factorial(n-1)\n",
    "  return result\n",
    "print(\"pls enter number that you need the factorial of it\")\n",
    "number = input() \n",
    "print(\"\\n Factorial of Number \"+number+\" is \"+str(Factorial(int(number))))"
   ]
  },
  {
   "cell_type": "code",
   "execution_count": 27,
   "id": "a2c5d907",
   "metadata": {},
   "outputs": [
    {
     "name": "stdout",
     "output_type": "stream",
     "text": [
      "8\n"
     ]
    },
    {
     "data": {
      "text/plain": [
       "{1: 1, 2: 4, 3: 9, 4: 16, 5: 25, 6: 36, 7: 49, 8: 64}"
      ]
     },
     "execution_count": 27,
     "metadata": {},
     "output_type": "execute_result"
    }
   ],
   "source": [
    "number = int(input())\n",
    "my_dictionary = dict()\n",
    "for n in range(1, number+1):\n",
    "    my_dictionary[n] = (n*n)\n",
    "my_dictionary"
   ]
  },
  {
   "cell_type": "code",
   "execution_count": 37,
   "id": "7da3b3b0",
   "metadata": {},
   "outputs": [
    {
     "name": "stdout",
     "output_type": "stream",
     "text": [
      "4\n",
      "kittn\n"
     ]
    }
   ],
   "source": [
    "number = int(input())\n",
    "string = \"kitten\"\n",
    "print(string[:number-len(string)]+string[number+1-len(string):])\n",
    "#negative indexes to start the slice from the end of the string"
   ]
  },
  {
   "cell_type": "code",
   "execution_count": 39,
   "id": "28529904",
   "metadata": {},
   "outputs": [
    {
     "data": {
      "text/plain": [
       "[[1, 2, 3], [4, 5, 6]]"
      ]
     },
     "execution_count": 39,
     "metadata": {},
     "output_type": "execute_result"
    }
   ],
   "source": [
    "import numpy as np\n",
    "new_array = np.array([[1,2,3]\n",
    "                      ,[4,5,6]])\n",
    "new_array.tolist()"
   ]
  },
  {
   "cell_type": "code",
   "execution_count": 40,
   "id": "14869b0d",
   "metadata": {},
   "outputs": [
    {
     "data": {
      "text/plain": [
       "array([[ 1., -1.],\n",
       "       [-1.,  1.]])"
      ]
     },
     "execution_count": 40,
     "metadata": {},
     "output_type": "execute_result"
    }
   ],
   "source": [
    "import numpy as np\n",
    "array1 = np.array([[0,1,2]])\n",
    "array2 = np.array([[2,1,0]])\n",
    "np.cov(array1,array2)"
   ]
  },
  {
   "cell_type": "code",
   "execution_count": 71,
   "id": "f8b0abfd",
   "metadata": {},
   "outputs": [
    {
     "data": {
      "text/plain": [
       "[18, 22, 24]"
      ]
     },
     "execution_count": 71,
     "metadata": {},
     "output_type": "execute_result"
    }
   ],
   "source": [
    "import math as math\n",
    "dinput = '100,150,180'\n",
    "List = list(map(int, \n",
    "               [dinput.split(',')[0],\n",
    "        dinput.split(',')[1],\n",
    "       dinput.split(',')[2]]))\n",
    "dListoutput=[]\n",
    "for dIteam in List:\n",
    "    C= 50\n",
    "    H = 30\n",
    "    dListoutput.append(int(math.sqrt((2*C*dIteam)/H)))\n",
    "dListoutput"
   ]
  },
  {
   "cell_type": "code",
   "execution_count": null,
   "id": "77e7afdc",
   "metadata": {},
   "outputs": [],
   "source": []
  }
 ],
 "metadata": {
  "kernelspec": {
   "display_name": "Python 3 (ipykernel)",
   "language": "python",
   "name": "python3"
  },
  "language_info": {
   "codemirror_mode": {
    "name": "ipython",
    "version": 3
   },
   "file_extension": ".py",
   "mimetype": "text/x-python",
   "name": "python",
   "nbconvert_exporter": "python",
   "pygments_lexer": "ipython3",
   "version": "3.9.12"
  }
 },
 "nbformat": 4,
 "nbformat_minor": 5
}
